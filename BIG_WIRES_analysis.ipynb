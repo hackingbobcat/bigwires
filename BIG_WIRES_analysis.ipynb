{
 "cells": [
  {
   "cell_type": "markdown",
   "id": "a7a6803d-b3df-47df-bb66-96d4b039b7ab",
   "metadata": {},
   "source": [
    "<h1>Why the BIG WIRES Act?  An Exploratory Data Analysis</h1>\n",
    "<h2>Eric Lagally</h2>\n",
    "<h2>ericlagally@gmail.com</h2>\n",
    "<h3>January 2024</h3>"
   ]
  },
  {
   "cell_type": "markdown",
   "id": "aeee2311-f577-4197-a147-bbf2a7f0694e",
   "metadata": {},
   "source": [
    "The BIG WIRES Act (H.R. 5551, S. 2827) was introduced in late 2023.  It is a bill that proposes to streamline the permitting process for the development of large, high-voltage electrical transmission lines in the United States.  The introduction to the text of the Act reads:\n",
    "> Congress finds that—\n",
    "\n",
    "> (1) interregional electric transmission is foundational to a modern grid and a growing economy based on affordable and abundant energy;\n",
    "\n",
    "> (2) in recent decades, the interregional electric grid infrastructure of North America, and of the United States in particular, has stagnated;\n",
    "\n",
    "> (3) since 2014, the total capacity of planned or newly constructed large-scale interregional transmission in North America has amounted to less than 1⁄3 that of South America, 1⁄6 that of Europe, and 1⁄30 that of China;\n",
    "\n",
    "> (4) such a shortage of interregional transmission threatens the reliability of the electric grid of the United States and its resiliency to extreme weather events and cyber and physical attacks while artificially inflating energy prices for the people of the United States;\n",
    "\n",
    "> (5) the damages resulting from that interregional transmission shortfall have been borne across the United States, in part during extreme weather events, including the 2022 freeze affecting the majority of the United States, the 2020 and 2022 heat waves in California, the 2019 heat wave and 2021 freeze in Texas, the 2018 cyclone on the East Coast, and the 2014 polar vortex in the Northeast and Midwest, and those extreme weather events collectively cost the people of the United States hundreds of billions of dollars;\n",
    "\n",
    "> (6) new interregional transmission, and transfer capability achieved by means of other technologies and grid-operational practices, represents a unique opportunity to fortify the critical energy infrastructure of the United States while lowering the cost of living for families;\n",
    "\n",
    "> (7) studies of interregional transmission routinely find benefit-cost ratios as high as 2.5, in line with real-world experience;\n",
    "\n",
    "> (8) by relieving grid congestion and promoting more efficient grid planning and operation, new interregional transmission presents an all-of-the-above opportunity for the full energy-generating portfolio of renewable, fossil, and nuclear resources of the United States; and\n",
    "\n",
    "> (9) interregional transmission represents a 2-way value proposition, with secure careers for workers in energy communities and competitively sourced, low-cost, reliable energy for industrial, commercial, and residential energy customers nationwide.\n",
    "\n",
    "Points #4 and #8 above caught my eye because they speak to an electrical grid that is potentially unreliable and that does not fully leverage the clean-energy capacity in the United States.  Specifically I wondered: \n",
    "\n",
    "1. What is the current state of high-voltage electrical transmission in the U.S.?\n",
    "2. What are the regional and national needs for electrical transmission in the U.S.?\n",
    "3. What other factors (i.e., placement of clean electricity generation facilties and carbon-equivalent emmissions from other electricity generation)  motivate the construction of new high-voltage transmission lines?\n",
    "\n",
    "Using data from the U.S. Energy Information Administraton (EIA) and other sources, I sought to address these questions using figures, images, and modeling in Python, the full code for which is found in the cells below.  Good analysis is transparent and builds on previous learning.  For that reason, I encourage your careful review to determine whether my analysis is correct and, if so, to build on it to answer other more advanced questions you may have. "
   ]
  },
  {
   "cell_type": "code",
   "execution_count": null,
   "id": "8cbf2dfd-1856-4a01-a582-b64a8f839d09",
   "metadata": {},
   "outputs": [],
   "source": [
    "# import statements\n",
    "import pandas as pd\n",
    "import os\n",
    "import glob\n",
    "import seaborn as sns\n",
    "import openpyxl\n",
    "import plotly.express as px\n",
    "from plotly.subplots import make_subplots\n",
    "import plotly.graph_objects as go\n",
    "import geopandas as gpd\n",
    "import pyarrow.parquet\n",
    "import shapely.geometry\n",
    "import numpy as np"
   ]
  },
  {
   "cell_type": "markdown",
   "id": "3efc84e0-a9f7-4a0e-8807-1d815a63c7a4",
   "metadata": {},
   "source": [
    "The first step of my approach is to import various data sets.  These are taken from the EIA website, mostly those pages relating to state-specific data.[1]   "
   ]
  },
  {
   "cell_type": "code",
   "execution_count": null,
   "id": "9b0b81f1-edab-4b54-bdf5-fa91c32bc286",
   "metadata": {},
   "outputs": [],
   "source": [
    "def read_data(keyword):\n",
    "    file_list = glob.glob(\"../data/*.xlsx\")\n",
    "    dfs = []\n",
    "    # for the energy tab in the state summary Excel sheets\n",
    "    if keyword == \"energy\": \n",
    "        columns = [\"Category\",\"2022\",\"2021\",\"2020\",\"2019\",\"2018\",\"2017\",\"2016\",\"2015\",\"2014\",\"2013\",\"2012\",\"2011\",\"2010\",\"2009\",\"2008\",\"2007\",\n",
    "                   \"2006\",\"2005\",\"2004\",\"2003\",\"2002\",\"2001\",\"2000\",\"1999\",\"1998\",\"1997\",\"1996\",\"1995\",\"1994\",\"1993\",\"1992\",\"1991\",\"1990\",\n",
    "                   \"Percent Share 2000\",\"Percent Share 2010\",\"Percent Share 2020\",\"Percent Share 2022\"]           \n",
    "        for f in file_list:\n",
    "            #grab state abbreviation\n",
    "            state = f[-7:-5].upper()\n",
    "            df = pd.read_excel(f, sheet_name=5,engine=\"openpyxl\",names=columns,skiprows=3, skipfooter=1)\n",
    "            df[\"State\"] = state\n",
    "            dfs.append(df)\n",
    "    # for the emissions tab in the state summary Excel sheets        \n",
    "    if keyword == \"emissions\":\n",
    "        columns = [\"Emission Type\",\"2022\",\"2021\",\"2020\",\"2019\",\"2018\",\"2017\",\"2016\",\"2015\",\"2014\",\"2013\",\"2012\",\"2011\",\"2010\",\"2009\",\"2008\",\"2007\",\n",
    "                   \"2006\",\"2005\",\"2004\",\"2003\",\"2002\",\"2001\",\"2000\",\"1999\",\"1998\",\"1997\",\"1996\",\"1995\",\"1994\",\"1993\",\"1992\",\"1991\",\"1990\"]\n",
    "        for f in file_list:\n",
    "            # grab state abbreviation\n",
    "            state = f[-7:-5].upper()\n",
    "            df = pd.read_excel(f, sheet_name=7,engine=\"openpyxl\",names=columns,skiprows=2, skipfooter=1)\n",
    "            df[\"State\"] = state\n",
    "            dfs.append(df)\n",
    "    return dfs"
   ]
  },
  {
   "cell_type": "code",
   "execution_count": null,
   "id": "73bc1751-b3c5-4e0d-99fe-75def5bceeff",
   "metadata": {},
   "outputs": [],
   "source": [
    "def read_exports():\n",
    "    columns = [\"State\",\"Net Energy Exports (trillion BTU)\"]\n",
    "    df = pd.read_csv(\"../data/net_exports.csv\", names=columns, skiprows=1)\n",
    "    \n",
    "    us_state_abbr = {\n",
    "    \"Alabama\": \"AL\",\n",
    "    \"Alaska\": \"AK\",\n",
    "    \"Arizona\": \"AZ\",\n",
    "    \"Arkansas\": \"AR\",\n",
    "    \"California\": \"CA\",\n",
    "    \"Colorado\": \"CO\",\n",
    "    \"Connecticut\": \"CT\",\n",
    "    \"Delaware\": \"DE\",\n",
    "    \"Florida\": \"FL\",\n",
    "    \"Georgia\": \"GA\",\n",
    "    \"Hawaii\": \"HI\",\n",
    "    \"Idaho\": \"ID\",\n",
    "    \"Illinois\": \"IL\",\n",
    "    \"Indiana\": \"IN\",\n",
    "    \"Iowa\": \"IA\",\n",
    "    \"Kansas\": \"KS\",\n",
    "    \"Kentucky\": \"KY\",\n",
    "    \"Louisiana\": \"LA\",\n",
    "    \"Maine\": \"ME\",\n",
    "    \"Maryland\": \"MD\",\n",
    "    \"Massachusetts\": \"MA\",\n",
    "    \"Michigan\": \"MI\",\n",
    "    \"Minnesota\": \"MN\",\n",
    "    \"Mississippi\": \"MS\",\n",
    "    \"Missouri\": \"MO\",\n",
    "    \"Montana\": \"MT\",\n",
    "    \"Nebraska\": \"NE\",\n",
    "    \"Nevada\": \"NV\",\n",
    "    \"New Hampshire\": \"NH\",\n",
    "    \"New Jersey\": \"NJ\",\n",
    "    \"New Mexico\": \"NM\",\n",
    "    \"New York\": \"NY\",\n",
    "    \"North Carolina\": \"NC\",\n",
    "    \"North Dakota\": \"ND\",\n",
    "    \"Ohio\": \"OH\",\n",
    "    \"Oklahoma\": \"OK\",\n",
    "    \"Oregon\": \"OR\",\n",
    "    \"Pennsylvania\": \"PA\",\n",
    "    \"Rhode Island\": \"RI\",\n",
    "    \"South Carolina\": \"SC\",\n",
    "    \"South Dakota\": \"SD\",\n",
    "    \"Tennessee\": \"TN\",\n",
    "    \"Texas\": \"TX\",\n",
    "    \"Utah\": \"UT\",\n",
    "    \"Vermont\": \"VT\",\n",
    "    \"Virginia\": \"VA\",\n",
    "    \"Washington\": \"WA\",\n",
    "    \"West Virginia\": \"WV\",\n",
    "    \"Wisconsin\": \"WI\",\n",
    "    \"Wyoming\": \"WY\",\n",
    "    \"District of Columbia\": \"DC\"\n",
    "    }\n",
    "    region = {\n",
    "    \"Alabama\": \"east\",\n",
    "    \"Alaska\": \"alaska\",\n",
    "    \"Arizona\": \"west\",\n",
    "    \"Arkansas\": \"east\",\n",
    "    \"California\": \"west\",\n",
    "    \"Colorado\": \"west\",\n",
    "    \"Connecticut\": \"east\",\n",
    "    \"Delaware\": \"east\",\n",
    "    \"Florida\": \"east\",\n",
    "    \"Georgia\": \"east\",\n",
    "    \"Hawaii\": \"hawaii\",\n",
    "    \"Idaho\": \"west\",\n",
    "    \"Illinois\": \"east\",\n",
    "    \"Indiana\": \"east\",\n",
    "    \"Iowa\": \"east\",\n",
    "    \"Kansas\": \"east\",\n",
    "    \"Kentucky\": \"east\",\n",
    "    \"Louisiana\": \"east\",\n",
    "    \"Maine\": \"east\",\n",
    "    \"Maryland\": \"east\",\n",
    "    \"Massachusetts\": \"east\",\n",
    "    \"Michigan\": \"east\",\n",
    "    \"Minnesota\": \"east\",\n",
    "    \"Mississippi\": \"east\",\n",
    "    \"Missouri\": \"east\",\n",
    "    \"Montana\": \"west\",\n",
    "    \"Nebraska\": \"east\",\n",
    "    \"Nevada\": \"west\",\n",
    "    \"New Hampshire\": \"east\",\n",
    "    \"New Jersey\": \"east\",\n",
    "    \"New Mexico\": \"west\",\n",
    "    \"New York\": \"east\",\n",
    "    \"North Carolina\": \"east\",\n",
    "    \"North Dakota\": \"east\",\n",
    "    \"Ohio\": \"east\",\n",
    "    \"Oklahoma\": \"east\",\n",
    "    \"Oregon\": \"west\",\n",
    "    \"Pennsylvania\": \"east\",\n",
    "    \"Rhode Island\": \"east\",\n",
    "    \"South Carolina\": \"east\",\n",
    "    \"South Dakota\": \"east\",\n",
    "    \"Tennessee\": \"east\",\n",
    "    \"Texas\": \"texas\",\n",
    "    \"Utah\": \"west\",\n",
    "    \"Vermont\": \"east\",\n",
    "    \"Virginia\": \"east\",\n",
    "    \"Washington\": \"west\",\n",
    "    \"West Virginia\": \"east\",\n",
    "    \"Wisconsin\": \"east\",\n",
    "    \"Wyoming\": \"west\",\n",
    "    \"District of Columbia\": \"east\"}\n",
    "    \n",
    "    # convert BTU to MWh for consistency with other data\n",
    "    df[\"Net Energy Exports (MWh)\"] = df[\"Net Energy Exports (trillion BTU)\"]*293071.08\n",
    "    # Map a dictionary of interconnection regions to the dataframe\n",
    "    df[\"Region\"] = df[\"State\"].map(region)\n",
    "    # Map a dictionary of state abbreviations to the dataframe\n",
    "    df[\"State\"] = df[\"State\"].map(us_state_abbr)\n",
    "   \n",
    "    #Convert all abbreviations to uppercase\n",
    "    df[\"State\"] = df[\"State\"].apply(lambda x:x.upper())\n",
    "\n",
    "    #Remove a period after an abbreviation\n",
    "    df[\"State\"] = df[\"State\"].apply(lambda x:x.split('.')[0])\n",
    "\n",
    "    return df"
   ]
  },
  {
   "cell_type": "code",
   "execution_count": null,
   "id": "5e43a92e-9e88-44b2-9e2b-fa16467a9276",
   "metadata": {},
   "outputs": [],
   "source": [
    "def format_data(dfs, keyword):\n",
    "    df_new = []\n",
    "    for df in dfs:\n",
    "        if keyword == \"energy\":\n",
    "            # grab value of row matching the index label of interest - only all generation together\n",
    "            idx = df.index[df[\"Category\"] == \"Total electric industry\"].tolist()\n",
    "            keepbelow = [i for i in range(idx[0])]\n",
    "            df = df.drop(keepbelow)\n",
    "            # keep only 2022 data\n",
    "            df = df[[\"State\",\"Category\", \"2022\"]]\n",
    "            keeprows = [\"Total electric industry\",\"Battery\",\"Coal\",\"Hydroelectric\",\"Natural gas\",\"Nuclear\",\"Other\",\"Other biomass\",\"Other gas\",\"Petroleum\",\n",
    "                        \"Solar\",\"Wood\",\"Wind\"]\n",
    "            df = df[df[\"Category\"].isin(keeprows)]\n",
    "            df.reset_index(drop=True)\n",
    "        if keyword == \"emissions\":   \n",
    "            idx = df.index[df[\"Emission Type\"] == \"Total emission rate (lbs/MWh)\"].tolist()\n",
    "            keepbelow = [i for i in range(idx[0]+1)]\n",
    "            df = df.drop(keepbelow)\n",
    "            df = df[[\"State\",\"Emission Type\", \"2022\"]]\n",
    "            df.reset_index(drop=True)\n",
    "        df_new.append(df)\n",
    "        \n",
    "    return df_new"
   ]
  },
  {
   "cell_type": "code",
   "execution_count": null,
   "id": "cb0423e7-7d56-41c4-bdc2-0b8d1cac6519",
   "metadata": {},
   "outputs": [],
   "source": [
    "df_exports = read_exports()\n",
    "df_energy = read_data(\"energy\")\n",
    "df_emissions = read_data(\"emissions\")\n",
    "df_energy_clean = format_data(df_energy,\"energy\")\n",
    "df_emission_clean = format_data(df_emissions, \"emissions\")"
   ]
  },
  {
   "cell_type": "markdown",
   "id": "8e2c470b-9dad-4712-977e-2ff98347e6f3",
   "metadata": {},
   "source": [
    "<h3>Question 1</h3>\n",
    "\n",
    "Question #1 focuses on the current state of high-voltage electrical transmission lines in the U.S.  How many are there?  What are their capacities?  Once we know that information, we can analyze about how this compares to the current need, which is Question #2.  \n",
    "\n",
    "I began by reviewing a primer on the organization of electricity transmission in the United States.[2]\n",
    "\n",
    "To begin the analysis of existing electricity transmission infrastructure, I loaded a GeoJSON file of all U.S. electrical transmission lines downloaded from the ArcGIS Hub.[3]  I filtered the file to include only those high-voltage transmission lines >345 kV, which number 71,085."
   ]
  },
  {
   "cell_type": "code",
   "execution_count": null,
   "id": "da5f855e-5e0c-42b1-bbe3-35d8652f9a7d",
   "metadata": {},
   "outputs": [],
   "source": [
    "# import the geojson file (in parquet format) containing electricity transmission lines\n",
    "transmission = gpd.read_parquet(\"../data/US_Electric_Power_Transmission_Lines.parquet\")"
   ]
  },
  {
   "cell_type": "code",
   "execution_count": null,
   "id": "b21cbe08-d4e2-4d2a-9ab9-d84bd844f14d",
   "metadata": {},
   "outputs": [],
   "source": [
    "print(\"Data file consists of %s rows\" %transmission.size)\n",
    "# identify unique voltage categories\n",
    "voltages = transmission[\"VOLT_CLASS\"].unique()\n",
    "print(\"Voltage categories are %s\" %voltages)\n",
    "# filter out low voltage lines, keeping only high-voltage lines >345 kV\n",
    "hi_v_transmission = transmission[transmission[\"VOLT_CLASS\"].isin([\"345\",\"500\",\"735 AND ABOVE\"])]\n",
    "# drop any lines without voltage class listed\n",
    "hi_v_transmission.dropna(subset=[\"VOLT_CLASS\"])\n",
    "print(\"Filtered data set with 345 kV AC and larger transmission lines contains %s rows\" %hi_v_transmission.size)\n",
    "hi_v_transmission.head()"
   ]
  },
  {
   "cell_type": "markdown",
   "id": "147a3f57-c627-4345-a12a-79b9fd9e8016",
   "metadata": {},
   "source": [
    "Next I plot the high-voltage transmission lines to show high-level information:"
   ]
  },
  {
   "cell_type": "code",
   "execution_count": null,
   "id": "f09f7040-c8b4-488d-9154-4b1744dd4d8c",
   "metadata": {},
   "outputs": [],
   "source": [
    "# create plot of energy transmission lines\n",
    "\n",
    "def plot_transmission(df):\n",
    "    lats_low, lats_mid, lats_hi = ([] for i in range (3))\n",
    "    lons_low, lons_mid, lons_hi = ([] for i in range (3))\n",
    "    names_low, names_mid, names_hi = ([] for i in range(3))\n",
    "    fig = go.Figure()\n",
    "    for feature, name, volt in zip(df.geometry, df.SUB_2, df.VOLT_CLASS):\n",
    "        \n",
    "        if isinstance(feature, shapely.geometry.linestring.LineString):\n",
    "            linestrings = [feature]\n",
    "        elif isinstance(feature, shapely.geometry.multilinestring.MultiLineString):\n",
    "            linestrings = feature.geoms\n",
    "        else:\n",
    "            continue\n",
    "        # create latitude, longitude, and names arrays depending on voltage of the transmission line\n",
    "        if (volt == \"345\"):\n",
    "            for linestring in linestrings:\n",
    "                x, y = linestring.xy\n",
    "                lats_low = np.append(lats_low, y)\n",
    "                lons_low = np.append(lons_low, x)\n",
    "                names_low = np.append(names_low, [name]*len(y))\n",
    "            lats_low = np.append(lats_low, None)\n",
    "            lons_low = np.append(lons_low, None)\n",
    "            names_low = np.append(names_low, None)\n",
    "        elif (volt == \"500\"):\n",
    "            for linestring in linestrings:\n",
    "                x, y = linestring.xy\n",
    "                lats_mid = np.append(lats_mid, y)\n",
    "                lons_mid = np.append(lons_mid, x)\n",
    "                names_mid = np.append(names_mid, [name]*len(y))\n",
    "            lats_mid = np.append(lats_mid, None)\n",
    "            lons_mid = np.append(lons_mid, None)\n",
    "            names_mid = np.append(names_mid, None)\n",
    "        else:\n",
    "            for linestring in linestrings:\n",
    "                x, y = linestring.xy\n",
    "                lats_hi = np.append(lats_hi, y)\n",
    "                lons_hi = np.append(lons_hi, x)\n",
    "                names_hi = np.append(names_hi, [name]*len(y))\n",
    "            lats_hi = np.append(lats_hi, None)\n",
    "            lons_hi = np.append(lons_hi, None)\n",
    "            names_hi = np.append(names_hi, None)      \n",
    "    fig.add_trace(go.Scattermapbox(name=\"345 kV\",mode=\"lines\",line={\"color\":\"blue\",\"width\":1},lat=lats_low,lon = lons_low,\n",
    "                                  hovertext=names_low,hoverinfo=\"text\"))\n",
    "    fig.add_trace(go.Scattermapbox(name=\"500 kV\",mode=\"lines\",line={\"color\":\"green\",\"width\":1},lat=lats_mid,lon = lons_mid,\n",
    "                                   hovertext=names_mid,hoverinfo=\"text\"))\n",
    "    fig.add_trace(go.Scattermapbox(name=\">=735 kV\",mode=\"lines\",line={\"color\":\"red\",\"width\":1},lat=lats_hi,lon = lons_hi,\n",
    "                                   hovertext=names_hi,hoverinfo=\"text\"))\n",
    "    #fig.update_geos(scope=\"usa\")\n",
    "    fig.update_layout(title_text = '2022 High-Voltage AC Transmission Lines', mapbox_style=\"open-street-map\", mapbox_zoom=3,\n",
    "                      mapbox_center={\"lat\":40, \"lon\":-98.5},margin={\"r\":0,\"t\":0,\"l\":0,\"b\":0}) \n",
    "    fig.show()\n",
    "                      "
   ]
  },
  {
   "cell_type": "code",
   "execution_count": null,
   "id": "b1e3f5a6-c9e8-4d40-af44-295d0af55cb0",
   "metadata": {},
   "outputs": [],
   "source": [
    "plot_transmission(hi_v_transmission)"
   ]
  },
  {
   "cell_type": "markdown",
   "id": "e7fda934-7002-4013-a3b9-ca38d72c2129",
   "metadata": {},
   "source": [
    "As I expected, there are many high-voltage transmission lines connecting the states within the eastern and western halves of the US continent, which form the Eastern Interconnection and Western Interconnection regions. However, relatively few high-voltage transmission lines connect these two regions (connections to the Texas Interconnection Region fare better). This is understandable for two reasons. First, transmission lines are run at high voltages to minimize the voltage loss as much as possible over long distances, but the longer the distance the greater the loss.  Therefore one line connecting the western-most states with the eastern-most states is infeasible.  Second, previous attempts to connect the Interconnections in the second half of the 20th century were disconnected because they were not stable.  This was due to frequency fluctuations inherent to mismatches between power generation and power usage in AC systems (see [4]).  Current existing connections between the eastern and western halves of the country number seven DC ties totaling <b>1.32 GW</b> total. Existing high-voltage DC (HVDC) ties are shown below:"
   ]
  },
  {
   "cell_type": "markdown",
   "id": "20d840cd-dfe5-4caa-83d9-56bb7e40b205",
   "metadata": {},
   "source": [
    "![DCTIES](us-hvdc-ties.jpg) "
   ]
  },
  {
   "cell_type": "markdown",
   "id": "e647fb36-3eb6-45de-aa74-a256f57b8767",
   "metadata": {},
   "source": [
    "<h3>Question 2</h3>\n",
    "\n",
    "Given the current state of electrical transmission in the United States, I next investigated how this compares to the amount of electricity generated at a state level.  "
   ]
  },
  {
   "cell_type": "code",
   "execution_count": null,
   "id": "cecd0113-6ced-44e4-b4ce-9272c4d64d73",
   "metadata": {},
   "outputs": [],
   "source": [
    "# create choropleth showing net energy exports\n",
    "fig = px.choropleth(df_exports,locations=\"State\", locationmode=\"USA-states\", color_continuous_scale=\"RdBu\", color=\"Net Energy Exports (trillion BTU)\", scope=\"usa\",\n",
    "                   labels={\"Net Energy Exports (trillion BTU)\":\"\"})\n",
    "fig.update_layout(\n",
    "    title_text = '2022 Net Electricity Exports by State (trillion BTU)', height = 600, width = 900)\n",
    "fig.show()"
   ]
  },
  {
   "cell_type": "markdown",
   "id": "7717aaa0-a5be-4123-8c20-96614d7c577c",
   "metadata": {},
   "source": [
    "As the figure shows, some states exported electricity in 2022 while adjacent states imported electricity (examples are Washington and Idaho, Alabama and Georgia, and Pennsylvania and Ohio).  These electricity exports and imports are supported by existing transmission lines to exchange electricity between adjacent states.  However, there are other states (like California) that import a tremendous amount of electricity that is not balanced by electricity exports from adjacent states.  This speaks to the need for even longer-distance transmission lines that connect distant states and/or DC ties that enhance connectivity between Interconnection regions.  I next investigated the net electricity balance between the three major interconnection regions:"
   ]
  },
  {
   "cell_type": "code",
   "execution_count": null,
   "id": "fed81b87-3352-47ca-aabd-98d078ac1b19",
   "metadata": {},
   "outputs": [],
   "source": [
    "def aggregate_exports(df):\n",
    "    df[\"Region_Sum\"] = df.groupby(\"Region\")[\"Net Energy Exports (trillion BTU)\"].transform('sum')\n",
    "    return df"
   ]
  },
  {
   "cell_type": "code",
   "execution_count": null,
   "id": "053e5812-d731-4f62-9365-acc3ae94a04c",
   "metadata": {},
   "outputs": [],
   "source": [
    "df_exports = aggregate_exports(df_exports)\n",
    "fig = px.choropleth(df_exports,locations=\"State\", locationmode=\"USA-states\", color_continuous_scale=\"RdBu\", color=\"Region_Sum\", scope=\"usa\",\n",
    "                   labels={\"Region_Sum\":\"Net Electricity Generation (trillion BTU)\"})\n",
    "fig.update_layout(\n",
    "    title_text = '2022 Net Electricity by Interconnection Region', height=600, width=900)\n",
    "fig.show()"
   ]
  },
  {
   "cell_type": "markdown",
   "id": "2baf42b2-e03a-419d-adb6-e432a0b45cf9",
   "metadata": {},
   "source": [
    "The above choropleth demonstrates that each interconnection region has unique needs.  The Western Interconnection region, as a whole, is a net exporter of electricity.  However, the Eastern and Texas interconnection regions are net importers of electricity, and this is not compensated for by the exports from the Western Interconnection region.  To compare these data to the power capacity of existing HVDC ties, it was necesary to convert from BTU (a unit of energy) to GW (a unit of power).  Converting the BTU values to GW requires dividing the annual total by 8760 to yield BTU/hour, then coverting this to GW (1 BTU/hr = 0.29307107 W).  Doing so reveals that the Eastern Interconnection region requires a net import of <b>1.11 GW</b> while the Texas interconnection region requires a net import of <b>1.63 GW</b>.  Comparing to the DC tie capacity above of 1.32 GW, it is clear that these ties are near or at the limit of their capacity. There are slight inaccuracies here because the interconnection regions do not occur strictly along state lines.  A county-level analysis would provide more accurate outcomes."
   ]
  },
  {
   "cell_type": "markdown",
   "id": "42c12c52-244c-4892-9e1e-9e0a6602f4f7",
   "metadata": {},
   "source": [
    "To the point above that the net imports from certain interconnection regions are not fully compensated by other regions, we also see that the United States must be a net importer of electricity from Canada and Mexico. As shown in the Lawrence Livermore National Laboratory Sankey chart below, in 2022 the United States imported 0.14 quads (quadrillion BTU), or 1.4 x 10<sup>14</sup> BTU, of electricity.[5] While that is a small percentage of the total electricity used in the United States in that year, it is nonetheless a tremendous amount of energy."
   ]
  },
  {
   "cell_type": "markdown",
   "id": "db60ce1c-f212-46c7-9379-5df761512868",
   "metadata": {},
   "source": [
    "![USELECTRICITY](US_Energy_2022.png) "
   ]
  },
  {
   "cell_type": "markdown",
   "id": "f451f968-87d5-4bc9-b524-5468ab5f64c3",
   "metadata": {},
   "source": [
    "<h3>Question 3</h3>\n",
    "\n",
    "Understanding the present condition of electricity generation at the state and regional levels and the limitations on transfer of this energy, I explored other factors that motivate how and where electricity transmission may be required.  In particular, as the United States transitions to a more clean-energy future we expect that electrical demands will increase compared to current state due to increased use of electric cars, furnaces, heat pumps, water heaters, and so on.  Further, the carbon-equivalent emissions profiles of the electricity generation become important to consider.  Generating more electricity to meet future demand with high carbon-emission sources will not effectively address the rate of climate change.  \n",
    "\n",
    "I therefore explored the carbon-equivalent emissions of the electricity generation at the state and regional levels, and compared these to the sources of new carbon-neutral electricity generation in the form of solar electricity stations, which are quickly increasing in capacity. I began with the electricity generation data from the state profiles available on the EIA website and collated them:"
   ]
  },
  {
   "cell_type": "code",
   "execution_count": null,
   "id": "e40e7dd2-1eaa-4283-ba33-0bb9fbf12b2b",
   "metadata": {},
   "outputs": [],
   "source": [
    "def all_states_generation(df_list):\n",
    "    master_df = pd.DataFrame(columns = [\"State\",\"Total electric industry\",\"Battery\",\"Coal\",\"Hydroelectric\",\n",
    "                                        \"Natural gas\",\"Nuclear\",\"Other\",\"Other biomass\",\"Other gas\",\"Petroleum\",\"Solar\",\"Wind\",\"Wood\"])\n",
    "    for df in df_list:\n",
    "        state = df.iloc[0][\"State\"]\n",
    "        df = df.set_index(\"Category\",drop=True)\n",
    "        df = df.T\n",
    "        df = df.reset_index()\n",
    "        df = df.rename(columns = {\"index\":\"State\"})\n",
    "        df = df.drop(0)\n",
    "        df.at[1,\"State\"] = state\n",
    "        cols = list(df.columns)\n",
    "        if \"Wind\" not in cols:\n",
    "            df[\"Wind\"] = 0\n",
    "        entry = df.iloc[[0]]\n",
    "        master_df = pd.concat([master_df,entry])\n",
    "    master_df = master_df.fillna(0)\n",
    "    master_df = master_df.replace(\".\",0)\n",
    "    master_df = master_df.reset_index(drop=True)\n",
    "    return master_df"
   ]
  },
  {
   "cell_type": "code",
   "execution_count": null,
   "id": "e0eb80df-c48a-4be7-8425-4ebbc57a7d93",
   "metadata": {},
   "outputs": [],
   "source": [
    "allstate_energy = all_states_generation(df_energy_clean)\n",
    "allstate_energy.head()"
   ]
  },
  {
   "cell_type": "markdown",
   "id": "dc89450b-479b-4433-b235-de9ce19e1d94",
   "metadata": {},
   "source": [
    "I grouped categories of electricity generation into \"Emissive\" and \"Non-emissive\" to get a sense of which states have the highest and lowest proportions of electricity generation from carbon-neutral sources.  Emissive categories were Coal, Natural gas, Other, Other biomass, Petroleum, and Wood.  Non-emissive categories were Hydroelectric, Nuclear, Solar, and Wind.  "
   ]
  },
  {
   "cell_type": "code",
   "execution_count": null,
   "id": "73c61ad8-044e-49eb-b500-92416794be05",
   "metadata": {},
   "outputs": [],
   "source": [
    "emissive = [\"Coal\",\"Natural gas\",\"Other\",\"Other biomass\",\"Other gas\",\"Petroleum\",\"Wood\"]\n",
    "non_emissive = [\"Hydroelectric\",\"Nuclear\",\"Solar\",\"Wind\"]\n",
    "allstate_energy[\"Emissive Sum\"] = allstate_energy[emissive].sum(axis=1)\n",
    "allstate_energy[\"Non-Emissive Sum\"] = allstate_energy[non_emissive].sum(axis=1)\n",
    "allstate_energy[\"Emissive Percent\"] = 100*(allstate_energy[\"Emissive Sum\"] / allstate_energy[\"Total electric industry\"])\n",
    "allstate_energy[\"Non-Emissive Percent\"] = 100*(allstate_energy[\"Non-Emissive Sum\"] / allstate_energy[\"Total electric industry\"])\n",
    "allstate_energy.head()"
   ]
  },
  {
   "cell_type": "markdown",
   "id": "da518653-45c1-4935-8636-fdc77b17d36d",
   "metadata": {},
   "source": [
    "Plotting the relative fractions of emissive generation methods by state yielded:"
   ]
  },
  {
   "cell_type": "code",
   "execution_count": null,
   "id": "8d3255c3-9717-4043-9520-c081e86a7b03",
   "metadata": {},
   "outputs": [],
   "source": [
    "fig = px.choropleth(allstate_energy,locations=\"State\", locationmode=\"USA-states\", color_continuous_scale=[\"lightgreen\",\"black\"], color=\"Emissive Percent\", \n",
    "                    scope=\"usa\", labels={\"Emissive Percent\":\"Percent\"})\n",
    "fig.update_layout(\n",
    "    title_text = '2022 Percent of Electricity Generation from Emissive Sources by State', height=600,width=900)\n",
    "fig.show()"
   ]
  },
  {
   "cell_type": "markdown",
   "id": "278948e0-e714-4352-873f-28860a940003",
   "metadata": {},
   "source": [
    "The top five and bottom five states with the most emissive electricity generation in 2022 were:"
   ]
  },
  {
   "cell_type": "code",
   "execution_count": null,
   "id": "93a99879-a20b-4ec5-9a38-3597db19aed7",
   "metadata": {},
   "outputs": [],
   "source": [
    "allstate_energy = allstate_energy.sort_values(by=[\"Emissive Percent\"])\n",
    "print(\"Top 5 Least Emissive Electricity Generation:\")\n",
    "print(allstate_energy[['State', 'Emissive Percent']].head(5))\n",
    "allstate_energy = allstate_energy.sort_values(by=[\"Emissive Percent\"], ascending = False)\n",
    "print(\"Top 5 Most Emissive Electricity Generation:\")\n",
    "print(allstate_energy[['State', 'Emissive Percent']].head(5))"
   ]
  },
  {
   "cell_type": "markdown",
   "id": "59909b5c-46d0-43f1-a253-ebe174199d37",
   "metadata": {},
   "source": [
    "As well as the percentage of electricity generating emissions in each state, the rate of emissions by type is important because not all emissions have the same effect on the environment. Estimates are available for sulfur dioxide (contributes to formation of acid rain), nitrogen oxide (a general term for various nitrogen-oxygen compounds of which NO<sub>2</sub> is a greenhouse gas), and carbon dioxide (a well-known greenhouse gas).  Methane emissions are not captured in the EIA data because the bulk of these emissions are categorized as oil and gas production rather than consumption for electricity generation. For more information on this topic, I recommend a recent study using satellite data to map methane emissions.[6]"
   ]
  },
  {
   "cell_type": "code",
   "execution_count": null,
   "id": "fa537568-d8c5-422b-8d4d-400febed9a0e",
   "metadata": {},
   "outputs": [],
   "source": [
    "def all_states_emissions(df_list):\n",
    "    master_df = pd.DataFrame()\n",
    "    for df in df_list:\n",
    "        df = df.rename(columns = {\"2022\":\"Amount (lbs/MWh)\"})\n",
    "        master_df = pd.concat([master_df,df])\n",
    "    master_df = master_df.fillna(0)\n",
    "    master_df = master_df.replace(\".\",0)\n",
    "    master_df = master_df.reset_index(drop=True)\n",
    "    return master_df"
   ]
  },
  {
   "cell_type": "code",
   "execution_count": null,
   "id": "b68fcf38-f628-4a2f-bcc5-4c01fbaab507",
   "metadata": {},
   "outputs": [],
   "source": [
    "# collect all emissions data in one data frame\n",
    "allstate_emissions = all_states_emissions(df_emission_clean)\n",
    "allstate_sulfur = allstate_emissions[allstate_emissions[\"Emission Type\"] == \"Sulfur dioxide\"].sort_values(by=[\"Amount (lbs/MWh)\"], ascending=False\n",
    "                                                                                                         ).reset_index(drop=True)\n",
    "allstate_nitrogen = allstate_emissions[allstate_emissions[\"Emission Type\"] == \"Nitrogen oxide\"].sort_values(by=[\"Amount (lbs/MWh)\"], ascending=False\n",
    "                                                                                                           ).reset_index(drop=True)\n",
    "allstate_carbon = allstate_emissions[allstate_emissions[\"Emission Type\"] == \"Carbon dioxide\"].sort_values(by=[\"Amount (lbs/MWh)\"], ascending=False\n",
    "                                                                                                         ).reset_index(drop=True)\n",
    "fig = make_subplots(\n",
    "    rows=3, cols=1,\n",
    "    subplot_titles=(\"Sulfur Dioxide\", \"Nitrogen Oxide\", \"Carbon Dioxide\"))\n",
    "\n",
    "fig.add_trace(go.Bar(x=allstate_sulfur[\"State\"], y=allstate_sulfur[\"Amount (lbs/MWh)\"],),\n",
    "              1, 1)\n",
    "fig.add_trace(go.Bar(x=allstate_nitrogen[\"State\"], y=allstate_nitrogen[\"Amount (lbs/MWh)\"],),\n",
    "              2, 1)\n",
    "fig.add_trace(go.Bar(x=allstate_carbon[\"State\"], y=allstate_carbon[\"Amount (lbs/MWh)\"],),\n",
    "              3, 1)\n",
    "fig.update_layout(height=600, width=900,\n",
    "                  title_text=\"2022 Electricity Generation Emission Amounts by Type and State (lbs/MWh)\", showlegend=False)\n",
    "fig.show()"
   ]
  },
  {
   "cell_type": "markdown",
   "id": "04c5e729-a114-4bb4-8b88-c3dae34b4be2",
   "metadata": {},
   "source": [
    "These data illustrate a wide range of climate-impact footprints for electricity generation and export. Of note, four of five least-emissive states in their electricity generation are all in the Western Interconnection region, while all of the five most-emissive states are in the Eastern Interconnection region.  What would be ideal is to have the ability to strengthen transfer of non-emissive electricity between states both within and between interconnection regions.  Examples include between Washington, Oregon, and Utah as well as between Illinois and Wisconsin, Indiana, and Missouri. The above analysis also demonstrates those places where non-emissive electricity generation needs to increase.  \n",
    "\n",
    "I next calculated the total emissions rate (sulfur dioxide, nitrogen oxides, and carbon dioxide) for those states that exported electricity in 2022:"
   ]
  },
  {
   "cell_type": "code",
   "execution_count": null,
   "id": "059a03e6-36ee-4944-b238-5ad11e0d4e84",
   "metadata": {},
   "outputs": [],
   "source": [
    "#allstate_emissions.head()\n",
    "allstate_emsum = allstate_emissions.groupby([\"State\"]).sum([\"Amount (lbs/MWh)\"]).reset_index()\n",
    "df_exports[\"Net Energy Exports (trillion BTU)\"]= df_exports[\"Net Energy Exports (trillion BTU)\"].astype(int)\n",
    "df_exports_only = df_exports[df_exports[\"Net Energy Exports (trillion BTU)\"] > 0]\n",
    "#allstate_emsum.head()\n",
    "df_exports_em = df_exports_only.merge(allstate_emsum, how=\"left\")\n",
    "df_exports_em[\"Total Rate\"] = df_exports_em[\"Amount (lbs/MWh)\"]/2000\n",
    "fig = px.choropleth(df_exports_em,locations=\"State\", locationmode=\"USA-states\", color_continuous_scale=[\"lightgreen\",\"black\"], color=\"Total Rate\", \n",
    "                    scope=\"usa\", labels={\"Total Rate\":\"Total Emissions (short tons/MWh)\"})\n",
    "fig.update_layout(\n",
    "    title_text = '2022 Net Electricity Export Emissions by State', height=600,width=900)\n",
    "fig.show()"
   ]
  },
  {
   "cell_type": "markdown",
   "id": "77508e63-2439-426d-ae9e-0c3f877e1670",
   "metadata": {},
   "source": [
    "The states that exported low-emissions electricity in 2022 primarily relied on hydroelectric, solar, and wind power to do so. Recent years have seen a rapid increase in the construction of solar photovoltaic and wind electricity generation in the United States, at both the utility and state levels. Public datasets of the major solar installations and wind farms are available from the USGS. To analyze the locations of these installations compared to the need for non-emissive electricity by state, I first loaded the datasets:"
   ]
  },
  {
   "cell_type": "code",
   "execution_count": null,
   "id": "a218ece2-b417-4ffd-a3a1-40fc7260a49e",
   "metadata": {},
   "outputs": [],
   "source": [
    "solar_fac = gpd.read_file(\"../data/uspvdb_v1_0_20231108.geojson\")\n",
    "wind_fac = gpd.read_file(\"../data/uswtdb_v6_1_20231128.geojson\")\n"
   ]
  },
  {
   "cell_type": "code",
   "execution_count": null,
   "id": "8823c60a-bace-44f6-8363-32acb2fb5af9",
   "metadata": {},
   "outputs": [],
   "source": [
    "solar_fac = solar_fac.sort_values(by=\"p_cap_ac\", ascending=False)\n",
    "wind_fac = wind_fac.sort_values(by=\"p_cap\", ascending=False)\n",
    "wind_fac = wind_fac.fillna(0)\n",
    "wind_fac.head()"
   ]
  },
  {
   "cell_type": "markdown",
   "id": "429d48db-b2fa-4509-8c04-ddaba4753a6b",
   "metadata": {},
   "source": [
    "Each data set contains the state in which the facility is located, enabling a visualization of the total wind and solar capacity by state as well as the individual facility locations and capacities:"
   ]
  },
  {
   "cell_type": "code",
   "execution_count": null,
   "id": "2ce58b99-d340-404e-b841-dea0a1a35f07",
   "metadata": {},
   "outputs": [],
   "source": [
    "solar_cap_by_state = solar_fac.groupby([\"p_state\"], as_index=False)[\"p_cap_ac\"].sum()\n",
    "wind_cap_by_state = wind_fac.groupby([\"t_state\"], as_index=False)[\"p_cap\"].sum()\n",
    "#solar_cap_by_state.reset_index()\n",
    "#wind_cap_by_state"
   ]
  },
  {
   "cell_type": "code",
   "execution_count": null,
   "id": "cb8d3ec7-224b-4c59-87b8-eecc8463bfe5",
   "metadata": {
    "scrolled": true
   },
   "outputs": [],
   "source": [
    "trace1 = {\n",
    "  \"type\": \"scattergeo\", \n",
    "  \"lat\": solar_fac[\"ylat\"], \n",
    "  \"lon\": solar_fac[\"xlong\"], \n",
    "  \"marker\": dict(size=(solar_fac[\"p_cap_ac\"]/10))\n",
    "}\n",
    "trace2 = {\n",
    "  \"type\": \"choropleth\", \n",
    "  \"z\": solar_cap_by_state[\"p_cap_ac\"], \n",
    "  \"locations\": solar_cap_by_state[\"p_state\"],\n",
    "  \"colorscale\": \"solar\", \n",
    "  \"locationmode\": \"USA-states\",\n",
    "  \"colorbar_title\":\"Total Generation (MW)\"\n",
    "}\n",
    "data = [trace1, trace2]\n",
    "layout = {\n",
    "  \"geo\": {\"scope\": \"usa\"}\n",
    "}\n",
    "fig = go.Figure(data=data, layout=layout)\n",
    "fig.update_layout(\n",
    "    title_text = \"2022 Solar Electricity Generation Facilites and Total Capacity\", height=600,width=900)\n",
    "fig.show()"
   ]
  },
  {
   "cell_type": "code",
   "execution_count": null,
   "id": "83d97bb0-125a-43c4-8682-613c8e7bee00",
   "metadata": {},
   "outputs": [],
   "source": [
    "wind_fac = wind_fac[wind_fac[\"t_cap\"] > 2000]"
   ]
  },
  {
   "cell_type": "code",
   "execution_count": null,
   "id": "c19818e6-0db0-49ea-bace-321f645b0360",
   "metadata": {},
   "outputs": [],
   "source": [
    "trace1 = {\n",
    "  \"type\": \"scattergeo\", \n",
    "  \"lat\": wind_fac[\"ylat\"], \n",
    "  \"lon\": wind_fac[\"xlong\"], \n",
    "  \"marker\": dict(size=(wind_fac[\"p_cap\"]/70),opacity=0.2)\n",
    "}\n",
    "trace2 = {\n",
    "  \"type\": \"choropleth\", \n",
    "  \"z\": wind_cap_by_state[\"p_cap\"], \n",
    "  \"locations\": wind_cap_by_state[\"t_state\"],\n",
    "  \"colorscale\": \"aggrnyl\", \n",
    "  \"locationmode\": \"USA-states\",\n",
    "  \"colorbar_title\":\"Total Generation (MW)\"\n",
    "}\n",
    "data = [trace1, trace2]\n",
    "layout = {\n",
    "  \"geo\": {\"scope\": \"usa\"}\n",
    "}\n",
    "fig = go.Figure(data=data, layout=layout)\n",
    "fig.update_layout(\n",
    "    title_text = \"2022 Wind Turbine Electricity Generation Facilities and Total Capacity\", height=600,width=900)\n",
    "fig.show()"
   ]
  },
  {
   "cell_type": "markdown",
   "id": "657fcad7-9c12-4cb1-815c-5b7a0b75a413",
   "metadata": {},
   "source": [
    "<h2>Conclusions</h2>\n",
    "\n",
    "This analysis illustrated several major findings:\n",
    "<ol>\n",
    "    <li>The existing network of high-voltage electrical transmission lines within the United States is primarily among nearby states.</li>\n",
    "    <li>Interconnections between regions in the United States is achieved through high-voltage DC ties, which are at or nearly at capacity.</li>\n",
    "    <li>There are some states that export electricity and others that import electricity but these states are not always adjacent.  Some states import a large fraction of their electricity, which is not fully supported by neighboring states.</li>\n",
    "    <li>There is a wide variety of types of electricity generation in use and different states present widely-varying emissions profiles for the electricity they generate.</li>\n",
    "    <li>Among the states that exported electricity in 2022, there is a widely varying profile of emissions resulting from that electricity generation.  The lowest-emissions electricity from exporting states is scattered throughout the country.</li>\n",
    "    <li>The use of solar and wind for electricity generation is not evenly distributed across the states, and opportunties exist to enhance the transmission of electricity from those states producing it to adjacent states, especially those with high-emissions electricity generation and/or that are net importers of electricity.</li>\n",
    "</ol>\n",
    "\n",
    "These findings, when taken together, paint a picture of an existing need for increased electricity transmission capacity, especially to support future electricity demand due to clean energy efforts through other bills, like the Inflation Reduction Act.  Although I did not study it here, the rate of solar electricity generation is increasing, which is expected to increase this transmission need in the future. This analysis does not indicate whether the BIG WIRES Act is the optimal approach for such capacity improvement, but does support Points #4 and #8 in the introduction."
   ]
  },
  {
   "cell_type": "markdown",
   "id": "bb167d24-ca31-4b8f-9457-a7e4bb398393",
   "metadata": {},
   "source": [
    "<h2>References</h2>\n",
    "\n",
    "[1] U.S. Energy Information Administration, state search:  https://www.eia.gov/state/search/?sid=US\n",
    "\n",
    "[2] https://www.ncsl.org/environment-and-natural-resources/electric-transmission-planning-a-primer-for-state-legislatures\n",
    "\n",
    "[3] https://hub.arcgis.com/datasets/fedmaps::u-s-electric-power-transmission-lines/about\n",
    "\n",
    "[4] https://ieeexplore.ieee.org/stamp/stamp.jsp?arnumber=8594689, Section III\n",
    "\n",
    "[5] https://flowcharts.llnl.gov/commodities/energy\n",
    "\n",
    "[6] https://www.science.org/doi/10.1126/science.abj4351\n",
    "\n"
   ]
  },
  {
   "cell_type": "code",
   "execution_count": null,
   "id": "82cc41c4-89c1-4ac9-92bc-054447e50378",
   "metadata": {},
   "outputs": [],
   "source": []
  }
 ],
 "metadata": {
  "kernelspec": {
   "display_name": "Python 3 (ipykernel)",
   "language": "python",
   "name": "python3"
  },
  "language_info": {
   "codemirror_mode": {
    "name": "ipython",
    "version": 3
   },
   "file_extension": ".py",
   "mimetype": "text/x-python",
   "name": "python",
   "nbconvert_exporter": "python",
   "pygments_lexer": "ipython3",
   "version": "3.12.1"
  }
 },
 "nbformat": 4,
 "nbformat_minor": 5
}
